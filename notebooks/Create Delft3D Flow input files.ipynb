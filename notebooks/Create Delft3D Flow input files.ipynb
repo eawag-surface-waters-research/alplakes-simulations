{
 "cells": [
  {
   "cell_type": "code",
   "execution_count": 1,
   "id": "59c9c6f2",
   "metadata": {},
   "outputs": [],
   "source": [
    "import sys\n",
    "sys.path.append('../src')\n",
    "from datetime import datetime\n",
    "from models import delft3d_flow_6030062434"
   ]
  },
  {
   "cell_type": "code",
   "execution_count": 2,
   "id": "f16d91af",
   "metadata": {},
   "outputs": [
    {
     "name": "stdout",
     "output_type": "stream",
     "text": [
      "17:20:44.430784   Creating input files from 2022-10-09 00:00:00 to 2022-10-12 00:00:00\n",
      "\n",
      "\u001b[95m17:20:44.430938   Stage 1: Loading properties.\u001b[0m\n",
      "\u001b[92m17:20:44.430960   Stage 1: Completed.\u001b[0m\n",
      "\n",
      "\u001b[95m17:20:44.431018   Stage 2: Creating weather data files.\u001b[0m\n",
      "17:20:44.431039      Creating the meteo grid\n",
      "17:20:44.431484      Define buffer region to fill grid\n",
      "17:20:44.431528      Initialise the output meteo files and write their headers\n",
      "17:20:44.435509      Grid using ch1903 coordinate system, converting to WGS84 to collect weather data.\n",
      "17:20:44.435745      Collecting weather data for region: [47.236215858048524, 8.526197876275669] [47.456287451632484, 8.835863473096651]\n",
      "17:20:44.435797      Writing weather data to simulation files.\n",
      "17:20:44.435891         Collecting data for 2022-10-09 00:00:00 from remote API.\n",
      "http://eaw-alplakes2:8000/meteoswiss/cosmo/area/reanalysis/VNXQ34/20221009/20221009/47.236215858048524/8.526197876275669/47.456287451632484/8.835863473096651\n",
      "17:20:45.106827            Processing parameter CLCT\n",
      "17:20:45.222680            Processing parameter PMSL\n",
      "17:20:45.320682            Processing parameter RELHUM_2M\n",
      "17:20:45.420171            Processing parameter GLOB\n",
      "17:20:45.519379            Processing parameter T_2M\n",
      "17:20:45.620665            Processing parameter U\n",
      "17:20:45.722025            Processing parameter V\n",
      "17:20:45.818512         Collecting data for 2022-10-10 00:00:00 from remote API.\n",
      "http://eaw-alplakes2:8000/meteoswiss/cosmo/area/reanalysis/VNXQ34/20221010/20221010/47.236215858048524/8.526197876275669/47.456287451632484/8.835863473096651\n",
      "17:20:46.839961            Processing parameter CLCT\n",
      "17:20:46.939038            Processing parameter PMSL\n",
      "17:20:47.036703            Processing parameter RELHUM_2M\n",
      "17:20:47.138123            Processing parameter GLOB\n",
      "17:20:47.234096            Processing parameter T_2M\n",
      "17:20:47.330579            Processing parameter U\n",
      "17:20:47.434895            Processing parameter V\n",
      "17:20:47.531379         Collecting data for 2022-10-11 00:00:00 from remote API.\n",
      "http://eaw-alplakes2:8000/meteoswiss/cosmo/area/reanalysis/VNXQ34/20221011/20221011/47.236215858048524/8.526197876275669/47.456287451632484/8.835863473096651\n",
      "17:20:48.149528            Processing parameter CLCT\n",
      "17:20:48.248654            Processing parameter PMSL\n",
      "17:20:48.346336            Processing parameter RELHUM_2M\n",
      "17:20:48.448605            Processing parameter GLOB\n",
      "17:20:48.545108            Processing parameter T_2M\n",
      "17:20:48.641978            Processing parameter U\n",
      "17:20:48.742749            Processing parameter V\n",
      "\u001b[92m17:20:48.838859   Stage 2: Completed.\u001b[0m\n"
     ]
    }
   ],
   "source": [
    "params = {\"today\":datetime(2022,11,22),\n",
    "          \"start\": datetime(2022,10,9), \n",
    "          \"end\": datetime(2022,10,11),\n",
    "          \"api\": \"http://eaw-alplakes2:8000\",\n",
    "          \"simulation_dir\": \"\",\n",
    "          \"files\": False}\n",
    "properties = {\"grid\": {\"minx\": 687350, \n",
    "                       \"miny\": 237270, \n",
    "                       \"maxx\": 700360, \n",
    "                       \"maxy\": 252105, \n",
    "                       \"dx\": 500, \n",
    "                       \"dy\": 500}}\n",
    "\n",
    "d3d = delft3d_flow_6030062434(params)\n",
    "d3d.load_properties(manual=properties)\n",
    "d3d.weather_data_files()"
   ]
  },
  {
   "cell_type": "code",
   "execution_count": null,
   "id": "6208b25e",
   "metadata": {},
   "outputs": [],
   "source": []
  }
 ],
 "metadata": {
  "kernelspec": {
   "display_name": "envass",
   "language": "python",
   "name": "envass"
  },
  "language_info": {
   "codemirror_mode": {
    "name": "ipython",
    "version": 3
   },
   "file_extension": ".py",
   "mimetype": "text/x-python",
   "name": "python",
   "nbconvert_exporter": "python",
   "pygments_lexer": "ipython3",
   "version": "3.7.2"
  }
 },
 "nbformat": 4,
 "nbformat_minor": 5
}
