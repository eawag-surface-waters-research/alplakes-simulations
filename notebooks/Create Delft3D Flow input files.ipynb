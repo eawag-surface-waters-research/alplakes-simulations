{
 "cells": [
  {
   "cell_type": "code",
   "execution_count": 1,
   "id": "59c9c6f2",
   "metadata": {},
   "outputs": [],
   "source": [
    "import sys\n",
    "sys.path.append('../src')\n",
    "from datetime import datetime\n",
    "from models import delft3d_flow_6030062434"
   ]
  },
  {
   "cell_type": "code",
   "execution_count": 3,
   "id": "f16d91af",
   "metadata": {},
   "outputs": [
    {
     "name": "stdout",
     "output_type": "stream",
     "text": [
      "17:08:19.800733   Running in non-automatic mode.\n",
      "\n",
      "\u001b[95m17:08:19.806429   Stage 1: Loading properties.\u001b[0m\n",
      "\u001b[92m17:08:19.806516   Stage 1: Completed.\u001b[0m\n",
      "\n",
      "\u001b[95m17:08:19.806719   Stage 2: Creating weather data files.\u001b[0m\n",
      "17:08:19.806776      Creating the meteo grid\n",
      "17:08:19.808454      Define buffer region to fill grid\n",
      "17:08:19.808524      Initialise the output meteo files and write their headers\n",
      "17:08:19.811153      Grid using ch1903 coordinate system, converting to WGS84 to collect weather data.\n",
      "17:08:19.811272      Collecting weather data for region: [47.236215858048524, 8.526197876275669] [47.456287451632484, 8.835863473096651]\n",
      "17:08:19.811322      Writing weather data to simulation files.\n",
      "17:08:19.811399         Collecting data for 2022-10-09 00:00:00 from remote API.\n",
      "http://eaw-alplakes2:8000/meteoswiss/cosmo/area/reanalysis/VNXQ34/20221009/20221009/47.236215858048524/8.526197876275669/47.456287451632484/8.835863473096651\n",
      "17:08:20.416337            Processing parameter CLCT\n",
      "17:08:20.541125            Processing parameter PMSL\n",
      "17:08:20.648539            Processing parameter RELHUM_2M\n",
      "17:08:20.747587            Processing parameter GLOB\n",
      "17:08:20.848218            Processing parameter T_2M\n",
      "17:08:20.955274            Processing parameter U\n",
      "17:08:21.058147            Processing parameter V\n",
      "17:08:21.156630         Collecting data for 2022-10-10 00:00:00 from remote API.\n",
      "http://eaw-alplakes2:8000/meteoswiss/cosmo/area/reanalysis/VNXQ34/20221010/20221010/47.236215858048524/8.526197876275669/47.456287451632484/8.835863473096651\n",
      "17:08:21.756892            Processing parameter CLCT\n",
      "17:08:21.864156            Processing parameter PMSL\n",
      "17:08:21.980524            Processing parameter RELHUM_2M\n",
      "17:08:22.159310            Processing parameter GLOB\n",
      "17:08:22.265101            Processing parameter T_2M\n",
      "17:08:22.364770            Processing parameter U\n",
      "17:08:22.464149            Processing parameter V\n",
      "17:08:22.571099         Collecting data for 2022-10-11 00:00:00 from remote API.\n",
      "http://eaw-alplakes2:8000/meteoswiss/cosmo/area/reanalysis/VNXQ34/20221011/20221011/47.236215858048524/8.526197876275669/47.456287451632484/8.835863473096651\n",
      "17:08:23.081050            Processing parameter CLCT\n",
      "17:08:23.189488            Processing parameter PMSL\n",
      "17:08:23.289437            Processing parameter RELHUM_2M\n",
      "17:08:23.398509            Processing parameter GLOB\n",
      "17:08:23.496849            Processing parameter T_2M\n",
      "17:08:23.599460            Processing parameter U\n",
      "17:08:23.698138            Processing parameter V\n",
      "\u001b[92m17:08:23.802783   Stage 2: Completed.\u001b[0m\n"
     ]
    }
   ],
   "source": [
    "params = {\"today\":datetime(2022,11,22),\n",
    "          \"start\": datetime(2022,10,9), \n",
    "          \"end\": datetime(2022,10,11),\n",
    "          \"api\": \"http://eaw-alplakes2:8000\",\n",
    "          \"simulation_dir\": \"\",\n",
    "          \"files\": False}\n",
    "properties = {\"grid\": {\"minx\": 687350, \n",
    "                       \"miny\": 237270, \n",
    "                       \"maxx\": 700360, \n",
    "                       \"maxy\": 252105, \n",
    "                       \"dx\": 500, \n",
    "                       \"dy\": 500}}\n",
    "\n",
    "d3d = delft3d_flow_6030062434(params)\n",
    "d3d.load_properties(manual=properties)\n",
    "d3d.weather_data_files()"
   ]
  },
  {
   "cell_type": "code",
   "execution_count": null,
   "id": "6208b25e",
   "metadata": {},
   "outputs": [],
   "source": []
  }
 ],
 "metadata": {
  "kernelspec": {
   "display_name": "envass",
   "language": "python",
   "name": "envass"
  },
  "language_info": {
   "codemirror_mode": {
    "name": "ipython",
    "version": 3
   },
   "file_extension": ".py",
   "mimetype": "text/x-python",
   "name": "python",
   "nbconvert_exporter": "python",
   "pygments_lexer": "ipython3",
   "version": "3.7.2"
  }
 },
 "nbformat": 4,
 "nbformat_minor": 5
}
