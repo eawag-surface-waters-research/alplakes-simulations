{
 "cells": [
  {
   "cell_type": "code",
   "execution_count": null,
   "metadata": {},
   "outputs": [],
   "source": [
    "import requests\n",
    "import json\n",
    "\n",
    "import pandas as pd\n",
    "import xarray as xr\n",
    "import numpy as np\n",
    "import glob as glob\n",
    "import math\n",
    "\n",
    "import matplotlib.pyplot as plt\n",
    "import requests\n",
    "import os\n",
    "from datetime import datetime, timedelta\n",
    "from scipy.interpolate import griddata\n",
    "\n",
    "import warnings\n",
    "warnings.filterwarnings(\"ignore\", category=UserWarning, message=\"Converting non-nanosecond precision datetime values\")\n"
   ]
  },
  {
   "cell_type": "code",
   "execution_count": null,
   "metadata": {},
   "outputs": [],
   "source": [
    "path_grid = '/Users/ramajem/Documents/mitgcm/input/icon_zug120m/'\n",
    "path_icon = '/Users/ramajem/Documents/mitgcm/input/input_raw/ICON/'\n",
    "\n",
    "#path where to save input files \n",
    "path_out = '/Users/ramajem/Documents/mitgcm/input/icon_zug120m/'\n",
    "\n",
    "#first time stamp to print out surface forcing \n",
    "tt = 0  "
   ]
  },
  {
   "cell_type": "code",
   "execution_count": null,
   "metadata": {},
   "outputs": [],
   "source": [
    "def write_binary(path_fname,data):\n",
    "    '''\n",
    "    Saves data in the right binary format for MITgcm, in the dimension order XYT\n",
    "    Output binary files have been read and tested \n",
    "    '''\n",
    "    # reformat oder of dimensions for data  - [T,Y,X]\n",
    "    data = data.transpose('T','Y','X')\n",
    "\n",
    "    data = data.to_numpy() #convert to xarray to numpy first - and then save to binary\n",
    "    dtype = '>f8'  # big-endian and precision 64 (small-endian with precision 32 is '<f4')\n",
    "    data = data.astype(dtype)\n",
    "\n",
    "    # Write to file\n",
    "    fid = open(path_fname, 'wb')\n",
    "    data.tofile(fid)\n",
    "    fid.close()"
   ]
  },
  {
   "cell_type": "code",
   "execution_count": null,
   "metadata": {},
   "outputs": [],
   "source": [
    "def interp_to_grid(json_file, data_type, lat_grid, lon_grid):\n",
    "    '''\n",
    "    json_file: path to json file\n",
    "    data_type: string of parameter\n",
    "    lat_grid, lon_grid: lat, lon mesh of grid for interpolation \n",
    "    '''\n",
    "    \n",
    "    with open(json_file, \"r\") as file:\n",
    "        data = json.load(file)\n",
    "        time = np.array(data).item().get('time')\n",
    "\n",
    "        #cut off some weird plus sign in time\n",
    "        truncated_time = np.array([x[:19] for x in time])\n",
    "        truncated_time = np.array(truncated_time, dtype='datetime64')\n",
    "\n",
    "        lat = np.array(data['lat'])\n",
    "        lon = np.array(data['lng'])\n",
    "\n",
    "        if 'variables' in data and data_type in data['variables']:\n",
    "            data = np.array(data['variables'][data_type]['data'])\n",
    "        else:\n",
    "            data = np.array(data[data_type]['data'])\n",
    "\n",
    "    data_interp = []\n",
    "\n",
    "    for ii in np.arange(len(time)):\n",
    "\n",
    "        time_ii = truncated_time[ii]\n",
    "        # Flatten the original lat/lon mesh and data\n",
    "        coord_cosmo = np.array([lat.flatten(), lon.flatten()]).T\n",
    "        data_flat = data[ii,:,:].flatten()\n",
    "        data_interp_tt = griddata(coord_cosmo, data_flat, (lat_grid, lon_grid), method='cubic')\n",
    "\n",
    "        # set as xarray - replace lat_grid and lon_grid with XY grid \n",
    "        data_interp_tt = xr.DataArray(data_interp_tt, dims=[\"Y\", \"X\"], \n",
    "                                        coords={\"X\":x, \"Y\":y, })\n",
    "        \n",
    "        data_interp_tt = data_interp_tt.assign_coords({\"T\":time_ii})\n",
    "\n",
    "        data_interp.append(data_interp_tt)\n",
    "\n",
    "    data_interp = xr.concat(data_interp,dim='T').sortby('T')\n",
    "\n",
    "    return (data_interp)\n",
    "\n"
   ]
  },
  {
   "cell_type": "code",
   "execution_count": null,
   "metadata": {},
   "outputs": [],
   "source": [
    "def interp_concat_json(json_files,data_type, lat_grid, lon_grid):\n",
    "    \n",
    "    all_data = []\n",
    "    \n",
    "    for file in json_files:\n",
    "        data = interp_to_grid(file, data_type, lat_grid, lon_grid)\n",
    "        all_data.append(data)\n",
    "\n",
    "    all_data = xr.concat(all_data, dim='T').sortby('T')\n",
    "    all_data = all_data.sel(T=~all_data.get_index('T').duplicated())\n",
    "\n",
    "    #comment in when doing test model\n",
    "    #all_data = slice_model_test(all_data)\n",
    "\n",
    "    return (all_data)"
   ]
  },
  {
   "cell_type": "markdown",
   "metadata": {},
   "source": [
    "#### Load files and grid"
   ]
  },
  {
   "cell_type": "code",
   "execution_count": null,
   "metadata": {},
   "outputs": [],
   "source": [
    "# load files \n",
    "json_files_2024 = glob.glob(path_icon + '2024/*/*.json')\n",
    "json_files_2025 = glob.glob(path_icon + '2025/*/*.json')\n",
    "\n",
    "# Combine the lists of files\n",
    "json_files = json_files_2024 + json_files_2025\n",
    "len(json_files)\n"
   ]
  },
  {
   "cell_type": "code",
   "execution_count": null,
   "metadata": {},
   "outputs": [],
   "source": [
    "# load grid \n",
    "x = np.load(path_grid + 'x.npy')\n",
    "y = np.load(path_grid + 'y.npy')\n",
    "\n",
    "lat_grid = np.load(path_grid + 'lat_grid.npy')\n",
    "lon_grid = np.load(path_grid + 'lon_grid.npy')\n"
   ]
  },
  {
   "cell_type": "markdown",
   "metadata": {},
   "source": [
    "#### Load wind speed, air temperature, pressure at sea level"
   ]
  },
  {
   "cell_type": "code",
   "execution_count": null,
   "metadata": {},
   "outputs": [],
   "source": [
    "u10 = interp_concat_json(json_files,'U', lat_grid, lon_grid)\n",
    "v10 = interp_concat_json(json_files,'V', lat_grid, lon_grid)\n",
    "atemp = interp_concat_json(json_files,'T_2M', lat_grid, lon_grid)\n",
    "apress = interp_concat_json(json_files,'PS', lat_grid, lon_grid)\n",
    "pmsl =  interp_concat_json(json_files,'PMSL', lat_grid, lon_grid)\n",
    "\n"
   ]
  },
  {
   "cell_type": "markdown",
   "metadata": {},
   "source": [
    "### Compute wind drag coefficient"
   ]
  },
  {
   "cell_type": "code",
   "execution_count": null,
   "metadata": {},
   "outputs": [],
   "source": [
    "def computeC10(windSpeedSqrd):\n",
    "    '''\n",
    "    Computes the C10 coefficient in accordance with Wuest and Lorke for an xarray.DataArray.\n",
    "    The function is vectorised to handle xarray objects, where the operation is performed element-wise.\n",
    "    '''\n",
    "    \n",
    "    # Define the transition point for wind speed squared\n",
    "    transitionpt = 15.21\n",
    "    \n",
    "    # Use vectorised conditional operation with np.where\n",
    "    C10 = xr.where(windSpeedSqrd > transitionpt,\n",
    "                   0.007,  # Value if windSpeedSqrd > transitionpt\n",
    "                   0.0044 * np.power(windSpeedSqrd, -1.15 / 2))  # Value if windSpeedSqrd <= transitionpt\n",
    "\n",
    "    # For elements where windSpeedSqrd > transitionpt, apply the iterative process\n",
    "    for _ in range(4):\n",
    "        C10 = xr.where(windSpeedSqrd > transitionpt,\n",
    "                       np.power((1 / 0.41) * np.log(10 * 9.81 / (C10 * windSpeedSqrd)) + 11.3, -2),\n",
    "                       C10)  # Leave C10 unchanged for low wind speeds\n",
    "\n",
    "    return C10\n"
   ]
  },
  {
   "cell_type": "code",
   "execution_count": null,
   "metadata": {},
   "outputs": [],
   "source": [
    "windspeed_sqrd = u10**2  +  v10**2\n",
    "C10 = computeC10(windspeed_sqrd)\n"
   ]
  },
  {
   "cell_type": "code",
   "execution_count": null,
   "metadata": {},
   "outputs": [],
   "source": [
    "C10.isel(T=260).plot(vmax=0.04)"
   ]
  },
  {
   "cell_type": "markdown",
   "metadata": {},
   "source": [
    "### Compute wind stress"
   ]
  },
  {
   "cell_type": "code",
   "execution_count": null,
   "metadata": {},
   "outputs": [],
   "source": [
    "def compute_windstress(Temp, PS, U10, V10, C10):\n",
    "\n",
    "    # Air density from surface pressure\n",
    "    rho_air = PS / (287.058 * Temp)\n",
    "\n",
    "    windSpeedSqrd = U10**2 + V10**2\n",
    "    Ustress = rho_air * C10 * np.sqrt(windSpeedSqrd) * U10\n",
    "    Vstress = rho_air * C10 * np.sqrt(windSpeedSqrd) * V10\n",
    "\n",
    "    return (Ustress, Vstress)\n",
    "\n",
    "ustress, vstress = compute_windstress(atemp, apress, u10, v10, C10)\n",
    "\n"
   ]
  },
  {
   "cell_type": "markdown",
   "metadata": {},
   "source": [
    "### Plotting windstress"
   ]
  },
  {
   "cell_type": "code",
   "execution_count": null,
   "metadata": {},
   "outputs": [],
   "source": [
    "\n",
    "tt = 248\n",
    "fig, (ax1, ax2) = plt.subplots(1, 2, figsize=(12, 6))\n",
    "\n",
    "ustress.isel(T = tt).plot(ax=ax1, x=\"X\")\n",
    "vstress.isel(T = tt).plot(ax=ax2, x=\"X\")\n",
    "\n",
    "fig, ax = plt.subplots(1, figsize=(12, 3))\n",
    "ustress.mean(dim=('X','Y')).plot(label='taux')\n",
    "vstress.mean(dim=('X','Y')).plot(label='tauy')\n",
    "plt.title('Averaged over domain')\n",
    "plt.legend()\n",
    "plt.grid()"
   ]
  },
  {
   "cell_type": "markdown",
   "metadata": {},
   "source": [
    "### Saving ustress and vstress"
   ]
  },
  {
   "cell_type": "code",
   "execution_count": null,
   "metadata": {},
   "outputs": [],
   "source": [
    "write_binary(path_out + 'ustress.bin',ustress)\n",
    "write_binary(path_out + 'vstress.bin',vstress)"
   ]
  },
  {
   "cell_type": "code",
   "execution_count": null,
   "metadata": {},
   "outputs": [],
   "source": []
  },
  {
   "cell_type": "code",
   "execution_count": null,
   "metadata": {},
   "outputs": [],
   "source": []
  }
 ],
 "metadata": {
  "kernelspec": {
   "display_name": "mitgcm_venv",
   "language": "python",
   "name": "python3"
  },
  "language_info": {
   "codemirror_mode": {
    "name": "ipython",
    "version": 3
   },
   "file_extension": ".py",
   "mimetype": "text/x-python",
   "name": "python",
   "nbconvert_exporter": "python",
   "pygments_lexer": "ipython3",
   "version": "3.9.6"
  }
 },
 "nbformat": 4,
 "nbformat_minor": 2
}
