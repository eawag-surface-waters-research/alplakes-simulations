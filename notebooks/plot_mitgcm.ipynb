{
 "cells": [
  {
   "cell_type": "code",
   "execution_count": 1,
   "id": "dac84c12",
   "metadata": {},
   "outputs": [],
   "source": [
    "import os\n",
    "import netCDF4\n",
    "import numpy as np\n",
    "import pandas as pd\n",
    "import matplotlib.pyplot as plt"
   ]
  },
  {
   "cell_type": "code",
   "execution_count": 5,
   "id": "cece4b4c",
   "metadata": {},
   "outputs": [
    {
     "name": "stderr",
     "output_type": "stream",
     "text": [
      "No artists with labels found to put in legend.  Note that artists whose label start with an underscore are ignored when legend() is called with no argument.\n"
     ]
    },
    {
     "name": "stdout",
     "output_type": "stream",
     "text": [
      "1751749200.0\n",
      "<class 'netCDF4._netCDF4.Dataset'>\n",
      "root group (NETCDF4 data model, file format HDF5):\n",
      "    MITgcm_version: checkpoint67z\n",
      "    dimensions(sizes): time(56), depth(80), X(180), Y(60)\n",
      "    variables(dimensions): float64 time(time), float64 depth(depth), float64 lat(Y, X), float64 lng(Y, X), float64 t(time, depth, Y, X), float64 u(time, depth, Y, X), float64 v(time, depth, Y, X), float64 w(time, depth, Y, X), float64 thermocline(time, Y, X)\n",
      "    groups: \n",
      "26.7911376953125\n",
      "9.300359725952148\n"
     ]
    },
    {
     "data": {
      "image/png": "[encoded data removed]",
      "text/plain": [
       "<Figure size 640x480 with 1 Axes>"
      ]
     },
     "metadata": {},
     "output_type": "display_data"
    }
   ],
   "source": [
    "file = \"../runs/eawag_mitgcm67z_mitgcm_zurich_20250629_20250707_5_2/postprocess/20250629.nc\"\n",
    "with netCDF4.Dataset(file) as nc:\n",
    "    print(nc.variables[\"time\"][:][-1])\n",
    "    print(nc)\n",
    "    arr = nc.variables[\"t\"][:, :, 18, 100]\n",
    "    arr[arr == 0] = np.nan\n",
    "    print(arr.max())\n",
    "    print(arr.min())\n",
    "    plt.imshow(arr.T[0:22])\n",
    "    plt.legend()"
   ]
  },
  {
   "cell_type": "code",
   "execution_count": null,
   "id": "d92d5370",
   "metadata": {},
   "outputs": [],
   "source": []
  }
 ],
 "metadata": {
  "kernelspec": {
   "display_name": "airflow",
   "language": "python",
   "name": "airflow"
  },
  "language_info": {
   "codemirror_mode": {
    "name": "ipython",
    "version": 3
   },
   "file_extension": ".py",
   "mimetype": "text/x-python",
   "name": "python",
   "nbconvert_exporter": "python",
   "pygments_lexer": "ipython3",
   "version": "3.9.16"
  }
 },
 "nbformat": 4,
 "nbformat_minor": 5
}
