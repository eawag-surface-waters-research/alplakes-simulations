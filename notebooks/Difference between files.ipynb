{
 "cells": [
  {
   "cell_type": "code",
   "execution_count": 31,
   "id": "a4e9723f",
   "metadata": {},
   "outputs": [
    {
     "name": "stdout",
     "output_type": "stream",
     "text": [
      "✅ Diff saved to diff_report.html\n",
      "✅ Diff saved to diff_report.html\n",
      "✅ Diff saved to diff_report.html\n",
      "✅ Diff saved to diff_report.html\n",
      "✅ Diff saved to diff_report.html\n",
      "✅ Diff saved to diff_report.html\n",
      "✅ Diff saved to diff_report.html\n",
      "✅ Diff saved to diff_report.html\n"
     ]
    }
   ],
   "source": [
    "import difflib\n",
    "import os\n",
    "\n",
    "files = os.listdir(\"/home/runnalja/Desktop/data_processing/icon_zug120m_nz200/run\")\n",
    "\n",
    "for file in files:\n",
    "\n",
    "    f1_path = f\"/home/runnalja/git/alplakes/simulations/static/mitgcm/default/run_config/{file}\"\n",
    "    f2_path = f\"/home/runnalja/Desktop/data_processing/icon_zug120m_nz200/run/{file}\"\n",
    "\n",
    "    with open(f1_path) as f1, open(f2_path) as f2:\n",
    "        html_diff = difflib.HtmlDiff().make_file(\n",
    "            f1.readlines(),\n",
    "            f2.readlines(),\n",
    "            fromdesc=\"old\",\n",
    "            todesc=\"new\"\n",
    "        )\n",
    "\n",
    "    with open(f\"diff_report_{file}.html\", \"w\") as f:\n",
    "        f.write(html_diff)\n",
    "\n",
    "    print(\"✅ Diff saved to diff_report.html\")"
   ]
  },
  {
   "cell_type": "code",
   "execution_count": null,
   "id": "e267c7a8",
   "metadata": {},
   "outputs": [],
   "source": []
  }
 ],
 "metadata": {
  "kernelspec": {
   "display_name": "airflow",
   "language": "python",
   "name": "airflow"
  },
  "language_info": {
   "codemirror_mode": {
    "name": "ipython",
    "version": 3
   },
   "file_extension": ".py",
   "mimetype": "text/x-python",
   "name": "python",
   "nbconvert_exporter": "python",
   "pygments_lexer": "ipython3",
   "version": "3.9.16"
  }
 },
 "nbformat": 4,
 "nbformat_minor": 5
}
